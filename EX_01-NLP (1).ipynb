{
 "cells": [
  {
   "cell_type": "code",
   "execution_count": 32,
   "id": "9bd077a4-6461-45d8-87de-a303756c85a7",
   "metadata": {},
   "outputs": [
    {
     "name": "stdout",
     "output_type": "stream",
     "text": [
      "[1, 2, 32, 4, 5, 6, 7, 8, 9, 10, 11]\n",
      "[1, 2, 4, 5, 6, 7, 8, 9, 10, 11, 32]\n",
      "('apple', 'banana', 'cherry')\n",
      "<class 'tuple'>\n",
      "banana\n",
      "{'brand': 'Ford', 'model': 'Mustang', 'year': 1964}\n",
      "Ford\n",
      "3\n"
     ]
    }
   ],
   "source": [
    "#concept of list...\n",
    "list1 = [1,2,32,4,5,6,7,8,9,10]\n",
    "list1.append(11)\n",
    "print(list1)\n",
    "list1.sort()\n",
    "print(list1)\n",
    "\n",
    "#concept of touple....\n",
    "mytuple = (\"apple\", \"banana\", \"cherry\")\n",
    "print(mytuple)\n",
    "print(type(mytuple))\n",
    "print(mytuple[1])\n",
    "\n",
    "#Dictionary in python...\n",
    "thisdict = {\n",
    "  \"brand\": \"Ford\",\n",
    "  \"model\": \"Mustang\",\n",
    "  \"year\": 1964\n",
    "}\n",
    "print(thisdict)\n",
    "print(thisdict[\"brand\"])\n",
    "print(len(thisdict))\n",
    "\n",
    "#set in python...\n",
    "thisset = {\"apple\", \"banana\", \"cherry\"}\n",
    "thisset.add(\"orange\")\n",
    "thisset.add(\"graps\")\n",
    "thisset.remove(\"banana\")\n",
    "thisset.discard(\"graps\")\n",
    "x = thisset.pop()\n",
    "thisset.clear()\n",
    "del thisset\n",
    "# print(thisset)\n"
   ]
  },
  {
   "cell_type": "code",
   "execution_count": 33,
   "id": "02d17736-0182-48de-b58f-d7d13c4e25c1",
   "metadata": {},
   "outputs": [],
   "source": [
    "import re"
   ]
  },
  {
   "cell_type": "code",
   "execution_count": 41,
   "id": "deeee9d4-e511-4e10-8d41-b7b8dd71c433",
   "metadata": {},
   "outputs": [],
   "source": [
    "text = \"\""
   ]
  },
  {
   "cell_type": "code",
   "execution_count": 42,
   "id": "391ea2b1-4db9-4955-8eea-ea665e7b2cfc",
   "metadata": {},
   "outputs": [
    {
     "name": "stdout",
     "output_type": "stream",
     "text": [
      "match\n"
     ]
    }
   ],
   "source": [
    "# [1] find text \n",
    "x = re.search(\"Om\",text)\n",
    "if x:\n",
    "    print(\"match\")\n",
    "else:\n",
    "    print(\"No match\")"
   ]
  },
  {
   "cell_type": "code",
   "execution_count": 43,
   "id": "ef7ee747-a1c4-4dcc-bf2d-f4604245b8df",
   "metadata": {},
   "outputs": [
    {
     "name": "stdout",
     "output_type": "stream",
     "text": [
      "['a', 'm', 'm', 'a', 'm', 'b', 'l', 'e']\n"
     ]
    }
   ],
   "source": [
    "# [2] Find all lower case characters alphabetically between \"a\" and \"m\":\n",
    "\n",
    "x = re.findall(\"[a-m]\", text)\n",
    "print(x)"
   ]
  },
  {
   "cell_type": "code",
   "execution_count": 44,
   "id": "e4d4ebb8-d353-4f46-86b6-9b20626609cf",
   "metadata": {},
   "outputs": [
    {
     "name": "stdout",
     "output_type": "stream",
     "text": [
      "['0', '5']\n"
     ]
    }
   ],
   "source": [
    "# [3]Find all digit characters:\n",
    "\n",
    "x = re.findall(\"\\d\", text)\n",
    "print(x)"
   ]
  },
  {
   "cell_type": "code",
   "execution_count": 45,
   "id": "2f643315-3e62-4b59-b7d7-07f1a0a60ea6",
   "metadata": {},
   "outputs": [
    {
     "name": "stdout",
     "output_type": "stream",
     "text": [
      "['Kamble']\n"
     ]
    }
   ],
   "source": [
    "# [4]Search for a sequence :\n",
    "\n",
    "x = re.findall(\"Kh....\", text)\n",
    "print(x)"
   ]
  },
  {
   "cell_type": "code",
   "execution_count": 46,
   "id": "935b4041-6ce1-4376-82d7-c4d765a88e76",
   "metadata": {},
   "outputs": [
    {
     "name": "stdout",
     "output_type": "stream",
     "text": [
      "string start with  ['I']\n"
     ]
    }
   ],
   "source": [
    "# [5]Check if the string starts with '':\n",
    "\n",
    "x = re.findall(\"^I\", text)\n",
    "if x:\n",
    "  print(\"string start with \",x)\n",
    "else:\n",
    "  print(\"No match\")"
   ]
  },
  {
   "cell_type": "code",
   "execution_count": 47,
   "id": "ef9f9672-a7b6-449f-812f-d94da011290e",
   "metadata": {},
   "outputs": [
    {
     "name": "stdout",
     "output_type": "stream",
     "text": [
      "Yes, the string end with ['05']\n"
     ]
    }
   ],
   "source": [
    "# [6]Check if the string end with 'hello':\n",
    "\n",
    "x = re.findall(\"05$\", text)\n",
    "if x:\n",
    "  print(\"Yes, the string end with\", x)\n",
    "else:\n",
    "  print(\"No match\")"
   ]
  },
  {
   "cell_type": "code",
   "execution_count": null,
   "id": "cf009302-0d9d-42c5-81e3-75caab04d276",
   "metadata": {},
   "outputs": [],
   "source": []
  },
  {
   "cell_type": "code",
   "execution_count": null,
   "id": "b56f2f67-5f10-4dc7-a8a5-f05693b729f5",
   "metadata": {},
   "outputs": [],
   "source": []
  },
  {
   "cell_type": "code",
   "execution_count": null,
   "id": "ed8a4559-f8cd-4e3b-b4b8-d0529c469db0",
   "metadata": {},
   "outputs": [],
   "source": []
  }
 ],
 "metadata": {
  "kernelspec": {
   "display_name": "Python 3 (ipykernel)",
   "language": "python",
   "name": "python3"
  },
  "language_info": {
   "codemirror_mode": {
    "name": "ipython",
    "version": 3
   },
   "file_extension": ".py",
   "mimetype": "text/x-python",
   "name": "python",
   "nbconvert_exporter": "python",
   "pygments_lexer": "ipython3",
   "version": "3.11.7"
  }
 },
 "nbformat": 4,
 "nbformat_minor": 5
}
